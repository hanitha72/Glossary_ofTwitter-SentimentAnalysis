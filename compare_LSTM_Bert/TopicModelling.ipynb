{
 "cells": [
  {
   "cell_type": "markdown",
   "metadata": {},
   "source": [
    "# Topic Modeling --Approach1:"
   ]
  },
  {
   "cell_type": "markdown",
   "metadata": {},
   "source": [
    "## Using LDA "
   ]
  },
  {
   "cell_type": "markdown",
   "metadata": {},
   "source": [
    "- Documents that have similar words usually have the same topic\n",
    "- Documents that have groups of words frequently occurring together usually have the same topic\n",
    " - Documents are probability distributions over latent topics\n",
    " - Topics are probability distributions over words"
   ]
  },
  {
   "cell_type": "code",
   "execution_count": 5,
   "metadata": {},
   "outputs": [],
   "source": [
    "import pandas as pd\n",
    "import numpy as np\n",
    "\n",
    "from sklearn.feature_extraction.text import CountVectorizer"
   ]
  },
  {
   "cell_type": "code",
   "execution_count": 3,
   "metadata": {},
   "outputs": [
    {
     "name": "stdout",
     "output_type": "stream",
     "text": [
      "(10000, 2)\n"
     ]
    }
   ],
   "source": [
    "Xeeva_data = pd.read_excel('bert_sample.xlsx')\n",
    "print(Xeeva_data.shape)"
   ]
  },
  {
   "cell_type": "code",
   "execution_count": 4,
   "metadata": {},
   "outputs": [
    {
     "data": {
      "text/plain": [
       "'1000A Feed Bar Springs - (Medium Load) Color = White / Ivory'"
      ]
     },
     "execution_count": 4,
     "metadata": {},
     "output_type": "execute_result"
    }
   ],
   "source": [
    "Xeeva_data['ITEM_NAME'][100]"
   ]
  },
  {
   "cell_type": "code",
   "execution_count": 6,
   "metadata": {},
   "outputs": [],
   "source": [
    "count_vect = CountVectorizer(max_df=0.8, min_df=2, stop_words='english')\n",
    "doc_term_matrix = count_vect.fit_transform(Xeeva_data['ITEM_NAME'].values.astype('U'))"
   ]
  },
  {
   "cell_type": "code",
   "execution_count": 9,
   "metadata": {},
   "outputs": [
    {
     "data": {
      "text/plain": [
       "<10000x6829 sparse matrix of type '<class 'numpy.int64'>'\n",
       "\twith 64769 stored elements in Compressed Sparse Row format>"
      ]
     },
     "execution_count": 9,
     "metadata": {},
     "output_type": "execute_result"
    }
   ],
   "source": [
    "doc_term_matrix"
   ]
  },
  {
   "cell_type": "code",
   "execution_count": 12,
   "metadata": {},
   "outputs": [],
   "source": [
    "from sklearn.decomposition import LatentDirichletAllocation\n",
    "import random"
   ]
  },
  {
   "cell_type": "markdown",
   "metadata": {},
   "source": [
    "### Defining LDA model"
   ]
  },
  {
   "cell_type": "code",
   "execution_count": 11,
   "metadata": {},
   "outputs": [
    {
     "data": {
      "text/plain": [
       "LatentDirichletAllocation(n_components=4, random_state=42)"
      ]
     },
     "execution_count": 11,
     "metadata": {},
     "output_type": "execute_result"
    }
   ],
   "source": [
    "LDA = LatentDirichletAllocation(n_components=4, random_state=42)\n",
    "LDA.fit(doc_term_matrix)"
   ]
  },
  {
   "cell_type": "code",
   "execution_count": 13,
   "metadata": {},
   "outputs": [
    {
     "name": "stdout",
     "output_type": "stream",
     "text": [
      "rcdrbhac00003\n",
      "lhmaher\n",
      "147211\n",
      "601017\n",
      "segment\n",
      "0212a\n",
      "inox\n",
      "fraser\n",
      "retention\n",
      "165175\n"
     ]
    }
   ],
   "source": [
    "for i in range(10):\n",
    "    random_id = random.randint(0,len(count_vect.get_feature_names()))\n",
    "    print(count_vect.get_feature_names()[random_id])"
   ]
  },
  {
   "cell_type": "code",
   "execution_count": 16,
   "metadata": {},
   "outputs": [
    {
     "data": {
      "text/plain": [
       "array([65.41365053,  0.25513902,  0.25001753, ...,  0.25007349,\n",
       "        3.13359635,  0.25172162])"
      ]
     },
     "execution_count": 16,
     "metadata": {},
     "output_type": "execute_result"
    }
   ],
   "source": [
    "#find 10 words with the highest probability for the first topic\n",
    "first_topic = LDA.components_[0]\n",
    "first_topic"
   ]
  },
  {
   "cell_type": "code",
   "execution_count": 18,
   "metadata": {},
   "outputs": [
    {
     "data": {
      "text/plain": [
       "array([5453, 1938,   55, 4451, 3684, 4864, 3823, 5142, 6034, 5515],\n",
       "      dtype=int64)"
      ]
     },
     "execution_count": 18,
     "metadata": {},
     "output_type": "execute_result"
    }
   ],
   "source": [
    "#sort the indexes according to probability values\n",
    "\n",
    "top_topic_words = first_topic.argsort()[-10:]\n",
    "top_topic_words"
   ]
  },
  {
   "cell_type": "code",
   "execution_count": 19,
   "metadata": {},
   "outputs": [
    {
     "name": "stdout",
     "output_type": "stream",
     "text": [
      "pn\n",
      "55\n",
      "01\n",
      "insert\n",
      "drum\n",
      "make\n",
      "engrave\n",
      "new\n",
      "serial\n",
      "print\n"
     ]
    }
   ],
   "source": [
    "#retrieveing the value of the words from the indexes from the 'count_vect' object\n",
    "\n",
    "for i in top_topic_words:\n",
    "    print(count_vect.get_feature_names()[i])\n"
   ]
  },
  {
   "cell_type": "code",
   "execution_count": 20,
   "metadata": {},
   "outputs": [
    {
     "name": "stdout",
     "output_type": "stream",
     "text": [
      "Top 10 words for topic #0:\n",
      "['pn', '55', '01', 'insert', 'drum', 'make', 'engrave', 'new', 'serial', 'print']\n",
      "\n",
      "\n",
      "Top 10 words for topic #1:\n",
      "['pn', 'nf', '32', 'tools', 'gt', 'mfg', 'diam', 'desc', 'drill', '015']\n",
      "\n",
      "\n",
      "Top 10 words for topic #2:\n",
      "['best', 'diamond', 'en', 'boring', 'repair', 'bar', 'tools', 'para', 'insert', '015']\n",
      "\n",
      "\n",
      "Top 10 words for topic #3:\n",
      "['air', 'desc', 'd2', 'charges', 'oil', 'carbide', 'drive', 'end', 'type', '015']\n",
      "\n",
      "\n"
     ]
    }
   ],
   "source": [
    "# getting the 10 words with highest probabilities for all the four topics\n",
    "\n",
    "for i,topic in enumerate(LDA.components_):\n",
    "    print(f'Top 10 words for topic #{i}:')\n",
    "    print([count_vect.get_feature_names()[i] for i in topic.argsort()[-10:]])\n",
    "    print('\\n')"
   ]
  },
  {
   "cell_type": "markdown",
   "metadata": {},
   "source": [
    "## Add a column to the original data frame that will store the topic for the text."
   ]
  },
  {
   "cell_type": "code",
   "execution_count": 21,
   "metadata": {},
   "outputs": [
    {
     "data": {
      "text/plain": [
       "(10000, 4)"
      ]
     },
     "execution_count": 21,
     "metadata": {},
     "output_type": "execute_result"
    }
   ],
   "source": [
    "topic_values = LDA.transform(doc_term_matrix)\n",
    "topic_values.shape"
   ]
  },
  {
   "cell_type": "code",
   "execution_count": 22,
   "metadata": {},
   "outputs": [],
   "source": [
    "Xeeva_data['Topic'] = topic_values.argmax(axis=1)"
   ]
  },
  {
   "cell_type": "code",
   "execution_count": 23,
   "metadata": {},
   "outputs": [
    {
     "data": {
      "text/html": [
       "<div>\n",
       "<style scoped>\n",
       "    .dataframe tbody tr th:only-of-type {\n",
       "        vertical-align: middle;\n",
       "    }\n",
       "\n",
       "    .dataframe tbody tr th {\n",
       "        vertical-align: top;\n",
       "    }\n",
       "\n",
       "    .dataframe thead th {\n",
       "        text-align: right;\n",
       "    }\n",
       "</style>\n",
       "<table border=\"1\" class=\"dataframe\">\n",
       "  <thead>\n",
       "    <tr style=\"text-align: right;\">\n",
       "      <th></th>\n",
       "      <th>ITEM_NAME</th>\n",
       "      <th>CATEGORY_ID</th>\n",
       "      <th>Topic</th>\n",
       "    </tr>\n",
       "  </thead>\n",
       "  <tbody>\n",
       "    <tr>\n",
       "      <th>0</th>\n",
       "      <td>CALIBRACION TRANSDUCER 75 nm</td>\n",
       "      <td>CAPITAL ASSEMBLY</td>\n",
       "      <td>3</td>\n",
       "    </tr>\n",
       "    <tr>\n",
       "      <th>1</th>\n",
       "      <td>for pusher whskey</td>\n",
       "      <td>CAPITAL ASSEMBLY</td>\n",
       "      <td>1</td>\n",
       "    </tr>\n",
       "    <tr>\n",
       "      <th>2</th>\n",
       "      <td>Stat 40B Press Head Cup to Carrier from Stati...</td>\n",
       "      <td>CAPITAL ASSEMBLY</td>\n",
       "      <td>1</td>\n",
       "    </tr>\n",
       "    <tr>\n",
       "      <th>3</th>\n",
       "      <td>TRANSD. Cable (4145097103) scrw</td>\n",
       "      <td>CAPITAL ASSEMBLY</td>\n",
       "      <td>1</td>\n",
       "    </tr>\n",
       "    <tr>\n",
       "      <th>4</th>\n",
       "      <td>ZT200 7,5BAR,13BAR60HZ NUMERO DE SERIE: AIF09...</td>\n",
       "      <td>CAPITAL ASSEMBLY</td>\n",
       "      <td>1</td>\n",
       "    </tr>\n",
       "  </tbody>\n",
       "</table>\n",
       "</div>"
      ],
      "text/plain": [
       "                                           ITEM_NAME       CATEGORY_ID  Topic\n",
       "0                       CALIBRACION TRANSDUCER 75 nm  CAPITAL ASSEMBLY      3\n",
       "1                                  for pusher whskey  CAPITAL ASSEMBLY      1\n",
       "2   Stat 40B Press Head Cup to Carrier from Stati...  CAPITAL ASSEMBLY      1\n",
       "3                    TRANSD. Cable (4145097103) scrw  CAPITAL ASSEMBLY      1\n",
       "4   ZT200 7,5BAR,13BAR60HZ NUMERO DE SERIE: AIF09...  CAPITAL ASSEMBLY      1"
      ]
     },
     "execution_count": 23,
     "metadata": {},
     "output_type": "execute_result"
    }
   ],
   "source": [
    "Xeeva_data.head()"
   ]
  },
  {
   "cell_type": "code",
   "execution_count": 24,
   "metadata": {},
   "outputs": [
    {
     "data": {
      "text/plain": [
       "CUTTING TOOLS        5000\n",
       "CHEMICALS            2000\n",
       "CAPITAL ASSEMBLY     2000\n",
       "LOGISTICS SERVICE    1000\n",
       "Name: CATEGORY_ID, dtype: int64"
      ]
     },
     "execution_count": 24,
     "metadata": {},
     "output_type": "execute_result"
    }
   ],
   "source": [
    "Xeeva_data.CATEGORY_ID.value_counts()"
   ]
  },
  {
   "cell_type": "code",
   "execution_count": 25,
   "metadata": {},
   "outputs": [
    {
     "data": {
      "text/plain": [
       "3    2662\n",
       "2    2606\n",
       "1    2415\n",
       "0    2317\n",
       "Name: Topic, dtype: int64"
      ]
     },
     "execution_count": 25,
     "metadata": {},
     "output_type": "execute_result"
    }
   ],
   "source": [
    "Xeeva_data.Topic.value_counts()"
   ]
  },
  {
   "cell_type": "markdown",
   "metadata": {},
   "source": [
    "## Cross-veryfing with original data"
   ]
  },
  {
   "cell_type": "code",
   "execution_count": 30,
   "metadata": {},
   "outputs": [
    {
     "data": {
      "text/plain": [
       "ITEM_NAME      object\n",
       "CATEGORY_ID    object\n",
       "Topic           int64\n",
       "dtype: object"
      ]
     },
     "execution_count": 30,
     "metadata": {},
     "output_type": "execute_result"
    }
   ],
   "source": [
    "Xeeva_data.dtypes"
   ]
  },
  {
   "cell_type": "code",
   "execution_count": 35,
   "metadata": {},
   "outputs": [],
   "source": [
    "topic0_data = Xeeva_data[Xeeva_data[\"Topic\"]== 0]\n",
    "topic1_data = Xeeva_data[Xeeva_data[\"Topic\"]== 1]"
   ]
  },
  {
   "cell_type": "code",
   "execution_count": 48,
   "metadata": {},
   "outputs": [
    {
     "data": {
      "text/html": [
       "<div>\n",
       "<style scoped>\n",
       "    .dataframe tbody tr th:only-of-type {\n",
       "        vertical-align: middle;\n",
       "    }\n",
       "\n",
       "    .dataframe tbody tr th {\n",
       "        vertical-align: top;\n",
       "    }\n",
       "\n",
       "    .dataframe thead th {\n",
       "        text-align: right;\n",
       "    }\n",
       "</style>\n",
       "<table border=\"1\" class=\"dataframe\">\n",
       "  <thead>\n",
       "    <tr style=\"text-align: right;\">\n",
       "      <th></th>\n",
       "      <th>ITEM_NAME</th>\n",
       "      <th>CATEGORY_ID</th>\n",
       "      <th>Topic</th>\n",
       "    </tr>\n",
       "  </thead>\n",
       "  <tbody>\n",
       "    <tr>\n",
       "      <th>11</th>\n",
       "      <td># 5637351</td>\n",
       "      <td>CAPITAL ASSEMBLY</td>\n",
       "      <td>0</td>\n",
       "    </tr>\n",
       "    <tr>\n",
       "      <th>12</th>\n",
       "      <td># 5637377</td>\n",
       "      <td>CAPITAL ASSEMBLY</td>\n",
       "      <td>0</td>\n",
       "    </tr>\n",
       "    <tr>\n",
       "      <th>13</th>\n",
       "      <td># 5637385</td>\n",
       "      <td>CAPITAL ASSEMBLY</td>\n",
       "      <td>0</td>\n",
       "    </tr>\n",
       "    <tr>\n",
       "      <th>14</th>\n",
       "      <td># 5637393</td>\n",
       "      <td>CAPITAL ASSEMBLY</td>\n",
       "      <td>0</td>\n",
       "    </tr>\n",
       "    <tr>\n",
       "      <th>15</th>\n",
       "      <td># 5637406</td>\n",
       "      <td>CAPITAL ASSEMBLY</td>\n",
       "      <td>0</td>\n",
       "    </tr>\n",
       "    <tr>\n",
       "      <th>18</th>\n",
       "      <td>#VMHI0201 BOMBA ACEITE</td>\n",
       "      <td>CAPITAL ASSEMBLY</td>\n",
       "      <td>0</td>\n",
       "    </tr>\n",
       "    <tr>\n",
       "      <th>27</th>\n",
       "      <td>(1) Knob Purchase Alter</td>\n",
       "      <td>CAPITAL ASSEMBLY</td>\n",
       "      <td>0</td>\n",
       "    </tr>\n",
       "    <tr>\n",
       "      <th>30</th>\n",
       "      <td>(1) V-nest</td>\n",
       "      <td>CAPITAL ASSEMBLY</td>\n",
       "      <td>0</td>\n",
       "    </tr>\n",
       "    <tr>\n",
       "      <th>34</th>\n",
       "      <td>(2) Keepers</td>\n",
       "      <td>CAPITAL ASSEMBLY</td>\n",
       "      <td>0</td>\n",
       "    </tr>\n",
       "    <tr>\n",
       "      <th>44</th>\n",
       "      <td>(51) Serial Pallets</td>\n",
       "      <td>CAPITAL ASSEMBLY</td>\n",
       "      <td>0</td>\n",
       "    </tr>\n",
       "    <tr>\n",
       "      <th>53</th>\n",
       "      <td>[E11973] Diff Brake</td>\n",
       "      <td>CAPITAL ASSEMBLY</td>\n",
       "      <td>0</td>\n",
       "    </tr>\n",
       "    <tr>\n",
       "      <th>60</th>\n",
       "      <td>000.1007.01.A - tuleja</td>\n",
       "      <td>CAPITAL ASSEMBLY</td>\n",
       "      <td>0</td>\n",
       "    </tr>\n",
       "    <tr>\n",
       "      <th>63</th>\n",
       "      <td>000.959.01.A - Tuleja</td>\n",
       "      <td>CAPITAL ASSEMBLY</td>\n",
       "      <td>0</td>\n",
       "    </tr>\n",
       "    <tr>\n",
       "      <th>66</th>\n",
       "      <td>0-1000 2.5 FACE 1/4NPT 0-1000 2.5 FACE 1/4NPT</td>\n",
       "      <td>CAPITAL ASSEMBLY</td>\n",
       "      <td>0</td>\n",
       "    </tr>\n",
       "    <tr>\n",
       "      <th>67</th>\n",
       "      <td>01079 CHANNELS RKL 4323 - 5M - BT 613326</td>\n",
       "      <td>CAPITAL ASSEMBLY</td>\n",
       "      <td>0</td>\n",
       "    </tr>\n",
       "    <tr>\n",
       "      <th>71</th>\n",
       "      <td>026056 planet gear CNVXS-4105GLB-15/G24/130</td>\n",
       "      <td>CAPITAL ASSEMBLY</td>\n",
       "      <td>0</td>\n",
       "    </tr>\n",
       "    <tr>\n",
       "      <th>75</th>\n",
       "      <td>081-0-1-0-18-0-0</td>\n",
       "      <td>CAPITAL ASSEMBLY</td>\n",
       "      <td>0</td>\n",
       "    </tr>\n",
       "    <tr>\n",
       "      <th>82</th>\n",
       "      <td>1 tooling</td>\n",
       "      <td>CAPITAL ASSEMBLY</td>\n",
       "      <td>0</td>\n",
       "    </tr>\n",
       "    <tr>\n",
       "      <th>91</th>\n",
       "      <td>10.5\" Hub Nut Staking Process (Two Units)</td>\n",
       "      <td>CAPITAL ASSEMBLY</td>\n",
       "      <td>0</td>\n",
       "    </tr>\n",
       "    <tr>\n",
       "      <th>93</th>\n",
       "      <td>10.5\" Upper Ball Joint Rundown</td>\n",
       "      <td>CAPITAL ASSEMBLY</td>\n",
       "      <td>0</td>\n",
       "    </tr>\n",
       "  </tbody>\n",
       "</table>\n",
       "</div>"
      ],
      "text/plain": [
       "                                        ITEM_NAME       CATEGORY_ID  Topic\n",
       "11                                      # 5637351  CAPITAL ASSEMBLY      0\n",
       "12                                      # 5637377  CAPITAL ASSEMBLY      0\n",
       "13                                      # 5637385  CAPITAL ASSEMBLY      0\n",
       "14                                      # 5637393  CAPITAL ASSEMBLY      0\n",
       "15                                      # 5637406  CAPITAL ASSEMBLY      0\n",
       "18                         #VMHI0201 BOMBA ACEITE  CAPITAL ASSEMBLY      0\n",
       "27                        (1) Knob Purchase Alter  CAPITAL ASSEMBLY      0\n",
       "30                                     (1) V-nest  CAPITAL ASSEMBLY      0\n",
       "34                                    (2) Keepers  CAPITAL ASSEMBLY      0\n",
       "44                            (51) Serial Pallets  CAPITAL ASSEMBLY      0\n",
       "53                            [E11973] Diff Brake  CAPITAL ASSEMBLY      0\n",
       "60                         000.1007.01.A - tuleja  CAPITAL ASSEMBLY      0\n",
       "63                          000.959.01.A - Tuleja  CAPITAL ASSEMBLY      0\n",
       "66  0-1000 2.5 FACE 1/4NPT 0-1000 2.5 FACE 1/4NPT  CAPITAL ASSEMBLY      0\n",
       "67       01079 CHANNELS RKL 4323 - 5M - BT 613326  CAPITAL ASSEMBLY      0\n",
       "71    026056 planet gear CNVXS-4105GLB-15/G24/130  CAPITAL ASSEMBLY      0\n",
       "75                               081-0-1-0-18-0-0  CAPITAL ASSEMBLY      0\n",
       "82                                      1 tooling  CAPITAL ASSEMBLY      0\n",
       "91      10.5\" Hub Nut Staking Process (Two Units)  CAPITAL ASSEMBLY      0\n",
       "93                 10.5\" Upper Ball Joint Rundown  CAPITAL ASSEMBLY      0"
      ]
     },
     "execution_count": 48,
     "metadata": {},
     "output_type": "execute_result"
    }
   ],
   "source": [
    "topic0_data.head(20)"
   ]
  },
  {
   "cell_type": "code",
   "execution_count": 42,
   "metadata": {},
   "outputs": [
    {
     "data": {
      "text/html": [
       "<div>\n",
       "<style scoped>\n",
       "    .dataframe tbody tr th:only-of-type {\n",
       "        vertical-align: middle;\n",
       "    }\n",
       "\n",
       "    .dataframe tbody tr th {\n",
       "        vertical-align: top;\n",
       "    }\n",
       "\n",
       "    .dataframe thead th {\n",
       "        text-align: right;\n",
       "    }\n",
       "</style>\n",
       "<table border=\"1\" class=\"dataframe\">\n",
       "  <thead>\n",
       "    <tr style=\"text-align: right;\">\n",
       "      <th></th>\n",
       "      <th>ITEM_NAME</th>\n",
       "      <th>CATEGORY_ID</th>\n",
       "      <th>Topic</th>\n",
       "    </tr>\n",
       "  </thead>\n",
       "  <tbody>\n",
       "    <tr>\n",
       "      <th>9853</th>\n",
       "      <td>DIFERENCIAL 2 P. 25 A DIFERENCIAL 2 P. 25 A</td>\n",
       "      <td>LOGISTICS SERVICE</td>\n",
       "      <td>1</td>\n",
       "    </tr>\n",
       "    <tr>\n",
       "      <th>9854</th>\n",
       "      <td>Diferencial 6F15</td>\n",
       "      <td>LOGISTICS SERVICE</td>\n",
       "      <td>1</td>\n",
       "    </tr>\n",
       "    <tr>\n",
       "      <th>9855</th>\n",
       "      <td>DIFERENCIAL SUPERINMUNIZ DIFERENCIAL SUPERINMUNIZ</td>\n",
       "      <td>LOGISTICS SERVICE</td>\n",
       "      <td>1</td>\n",
       "    </tr>\n",
       "    <tr>\n",
       "      <th>9858</th>\n",
       "      <td>DISC - | DESC: BRAKE DISC (REF. CALVEK)</td>\n",
       "      <td>LOGISTICS SERVICE</td>\n",
       "      <td>1</td>\n",
       "    </tr>\n",
       "    <tr>\n",
       "      <th>9862</th>\n",
       "      <td>DISCO LAMINADO G-60 DISCO LAMINADO G-60</td>\n",
       "      <td>LOGISTICS SERVICE</td>\n",
       "      <td>1</td>\n",
       "    </tr>\n",
       "    <tr>\n",
       "      <th>9876</th>\n",
       "      <td>Domestic Axle Skid</td>\n",
       "      <td>LOGISTICS SERVICE</td>\n",
       "      <td>1</td>\n",
       "    </tr>\n",
       "    <tr>\n",
       "      <th>9877</th>\n",
       "      <td>Domestic Axle Skid - HD  (Heavy Duty)</td>\n",
       "      <td>LOGISTICS SERVICE</td>\n",
       "      <td>1</td>\n",
       "    </tr>\n",
       "    <tr>\n",
       "      <th>9878</th>\n",
       "      <td>DOMESTIC AXLE SKID-HD</td>\n",
       "      <td>LOGISTICS SERVICE</td>\n",
       "      <td>1</td>\n",
       "    </tr>\n",
       "    <tr>\n",
       "      <th>9879</th>\n",
       "      <td>DOMESTIC AXLE SKIDS</td>\n",
       "      <td>LOGISTICS SERVICE</td>\n",
       "      <td>1</td>\n",
       "    </tr>\n",
       "    <tr>\n",
       "      <th>9880</th>\n",
       "      <td>DOMESTIC AXLE SKIDS 78x22</td>\n",
       "      <td>LOGISTICS SERVICE</td>\n",
       "      <td>1</td>\n",
       "    </tr>\n",
       "    <tr>\n",
       "      <th>9881</th>\n",
       "      <td>Don Joseph-- TRESOR car rental fee and driver'...</td>\n",
       "      <td>LOGISTICS SERVICE</td>\n",
       "      <td>1</td>\n",
       "    </tr>\n",
       "    <tr>\n",
       "      <th>9882</th>\n",
       "      <td>Don's car rental fee</td>\n",
       "      <td>LOGISTICS SERVICE</td>\n",
       "      <td>1</td>\n",
       "    </tr>\n",
       "    <tr>\n",
       "      <th>9899</th>\n",
       "      <td>DRIVER</td>\n",
       "      <td>LOGISTICS SERVICE</td>\n",
       "      <td>1</td>\n",
       "    </tr>\n",
       "    <tr>\n",
       "      <th>9900</th>\n",
       "      <td>DRIVER - | DESC: OBSOLETE</td>\n",
       "      <td>LOGISTICS SERVICE</td>\n",
       "      <td>1</td>\n",
       "    </tr>\n",
       "    <tr>\n",
       "      <th>9901</th>\n",
       "      <td>DRIVER - | TYPE: DRIVER</td>\n",
       "      <td>LOGISTICS SERVICE</td>\n",
       "      <td>1</td>\n",
       "    </tr>\n",
       "    <tr>\n",
       "      <th>9902</th>\n",
       "      <td>DRIVER/HR</td>\n",
       "      <td>LOGISTICS SERVICE</td>\n",
       "      <td>1</td>\n",
       "    </tr>\n",
       "    <tr>\n",
       "      <th>9904</th>\n",
       "      <td>DRUM - | TYPE: BRAKE DRUM ASSY | DESC: LH &amp; RH</td>\n",
       "      <td>LOGISTICS SERVICE</td>\n",
       "      <td>1</td>\n",
       "    </tr>\n",
       "    <tr>\n",
       "      <th>9916</th>\n",
       "      <td>Ed--driver's OT</td>\n",
       "      <td>LOGISTICS SERVICE</td>\n",
       "      <td>1</td>\n",
       "    </tr>\n",
       "    <tr>\n",
       "      <th>9978</th>\n",
       "      <td>Escoba de plastico Escoba de plastico</td>\n",
       "      <td>LOGISTICS SERVICE</td>\n",
       "      <td>1</td>\n",
       "    </tr>\n",
       "    <tr>\n",
       "      <th>9987</th>\n",
       "      <td>Expenses Handro/Osiel</td>\n",
       "      <td>LOGISTICS SERVICE</td>\n",
       "      <td>1</td>\n",
       "    </tr>\n",
       "  </tbody>\n",
       "</table>\n",
       "</div>"
      ],
      "text/plain": [
       "                                              ITEM_NAME        CATEGORY_ID  \\\n",
       "9853        DIFERENCIAL 2 P. 25 A DIFERENCIAL 2 P. 25 A  LOGISTICS SERVICE   \n",
       "9854                                   Diferencial 6F15  LOGISTICS SERVICE   \n",
       "9855  DIFERENCIAL SUPERINMUNIZ DIFERENCIAL SUPERINMUNIZ  LOGISTICS SERVICE   \n",
       "9858            DISC - | DESC: BRAKE DISC (REF. CALVEK)  LOGISTICS SERVICE   \n",
       "9862            DISCO LAMINADO G-60 DISCO LAMINADO G-60  LOGISTICS SERVICE   \n",
       "9876                                 Domestic Axle Skid  LOGISTICS SERVICE   \n",
       "9877              Domestic Axle Skid - HD  (Heavy Duty)  LOGISTICS SERVICE   \n",
       "9878                              DOMESTIC AXLE SKID-HD  LOGISTICS SERVICE   \n",
       "9879                                DOMESTIC AXLE SKIDS  LOGISTICS SERVICE   \n",
       "9880                          DOMESTIC AXLE SKIDS 78x22  LOGISTICS SERVICE   \n",
       "9881  Don Joseph-- TRESOR car rental fee and driver'...  LOGISTICS SERVICE   \n",
       "9882                               Don's car rental fee  LOGISTICS SERVICE   \n",
       "9899                                             DRIVER  LOGISTICS SERVICE   \n",
       "9900                          DRIVER - | DESC: OBSOLETE  LOGISTICS SERVICE   \n",
       "9901                            DRIVER - | TYPE: DRIVER  LOGISTICS SERVICE   \n",
       "9902                                          DRIVER/HR  LOGISTICS SERVICE   \n",
       "9904     DRUM - | TYPE: BRAKE DRUM ASSY | DESC: LH & RH  LOGISTICS SERVICE   \n",
       "9916                                    Ed--driver's OT  LOGISTICS SERVICE   \n",
       "9978              Escoba de plastico Escoba de plastico  LOGISTICS SERVICE   \n",
       "9987                              Expenses Handro/Osiel  LOGISTICS SERVICE   \n",
       "\n",
       "      Topic  \n",
       "9853      1  \n",
       "9854      1  \n",
       "9855      1  \n",
       "9858      1  \n",
       "9862      1  \n",
       "9876      1  \n",
       "9877      1  \n",
       "9878      1  \n",
       "9879      1  \n",
       "9880      1  \n",
       "9881      1  \n",
       "9882      1  \n",
       "9899      1  \n",
       "9900      1  \n",
       "9901      1  \n",
       "9902      1  \n",
       "9904      1  \n",
       "9916      1  \n",
       "9978      1  \n",
       "9987      1  "
      ]
     },
     "execution_count": 42,
     "metadata": {},
     "output_type": "execute_result"
    }
   ],
   "source": [
    "topic1_data.tail(20)"
   ]
  },
  {
   "cell_type": "raw",
   "metadata": {},
   "source": []
  },
  {
   "cell_type": "markdown",
   "metadata": {},
   "source": [
    "# Approach2:\n",
    "## NMF for Topic Modeling "
   ]
  },
  {
   "cell_type": "markdown",
   "metadata": {},
   "source": [
    "#### Non-negative matrix factorization is also a supervised learning technique which performs clustering as well as dimensionality reduction. It can be used in combination with TF-IDF scheme to perform topic modeling"
   ]
  },
  {
   "cell_type": "code",
   "execution_count": 55,
   "metadata": {},
   "outputs": [],
   "source": [
    "#Importing all the required libraries\n",
    "\n",
    "from sklearn.feature_extraction.text import TfidfVectorizer\n",
    "from sklearn.decomposition import NMF\n",
    "import random"
   ]
  },
  {
   "cell_type": "markdown",
   "metadata": {},
   "source": [
    "### using tf-idf for vectorization"
   ]
  },
  {
   "cell_type": "code",
   "execution_count": 50,
   "metadata": {},
   "outputs": [],
   "source": [
    "tfidf_vect = TfidfVectorizer(max_df=0.8, min_df=2, stop_words='english')\n",
    "doc_term_matrix = tfidf_vect.fit_transform(Xeeva_data['ITEM_NAME'].values.astype('U'))"
   ]
  },
  {
   "cell_type": "code",
   "execution_count": 52,
   "metadata": {},
   "outputs": [
    {
     "data": {
      "text/plain": [
       "<10000x6829 sparse matrix of type '<class 'numpy.float64'>'\n",
       "\twith 64769 stored elements in Compressed Sparse Row format>"
      ]
     },
     "execution_count": 52,
     "metadata": {},
     "output_type": "execute_result"
    }
   ],
   "source": [
    "doc_term_matrix"
   ]
  },
  {
   "cell_type": "markdown",
   "metadata": {},
   "source": [
    "#### 10000 words can be viewedin 6829 dimension space"
   ]
  },
  {
   "cell_type": "code",
   "execution_count": 53,
   "metadata": {},
   "outputs": [
    {
     "name": "stdout",
     "output_type": "stream",
     "text": [
      "volumetric\n",
      "kick\n",
      "ordering\n",
      "asb\n",
      "desengraxante\n",
      "eze\n",
      "ejecutivos\n",
      "rtv\n",
      "1160\n",
      "regal\n"
     ]
    }
   ],
   "source": [
    "# randomly get 10 words\n",
    "\n",
    "for i in range(10):\n",
    "    random_id = random.randint(0,len(tfidf_vect.get_feature_names()))\n",
    "    print(tfidf_vect.get_feature_names()[random_id])"
   ]
  },
  {
   "cell_type": "markdown",
   "metadata": {},
   "source": [
    "#### Defining nmf model object"
   ]
  },
  {
   "cell_type": "code",
   "execution_count": 57,
   "metadata": {},
   "outputs": [
    {
     "data": {
      "text/plain": [
       "NMF(n_components=4, random_state=42)"
      ]
     },
     "execution_count": 57,
     "metadata": {},
     "output_type": "execute_result"
    }
   ],
   "source": [
    "nmf = NMF(n_components=4, random_state=42)\n",
    "nmf.fit(doc_term_matrix )"
   ]
  },
  {
   "cell_type": "code",
   "execution_count": 60,
   "metadata": {},
   "outputs": [
    {
     "data": {
      "text/plain": [
       "array([3392, 2776, 6612, 4857, 2846, 4451, 2742, 5787, 6475,   68],\n",
       "      dtype=int64)"
      ]
     },
     "execution_count": 60,
     "metadata": {},
     "output_type": "execute_result"
    }
   ],
   "source": [
    "#retrieve the indexes of the top ten words index with the highest probabilities for first topic:\n",
    "\n",
    "first_topic = nmf.components_[0]\n",
    "top_topic_words_nmf = first_topic.argsort()[-10:]\n",
    "top_topic_words_nmf"
   ]
  },
  {
   "cell_type": "code",
   "execution_count": 62,
   "metadata": {},
   "outputs": [
    {
     "name": "stdout",
     "output_type": "stream",
     "text": [
      "cutting\n",
      "best\n",
      "unit\n",
      "maher\n",
      "boring\n",
      "insert\n",
      "bar\n",
      "repair\n",
      "tools\n",
      "015\n"
     ]
    }
   ],
   "source": [
    "for i in top_topic_words_nmf:\n",
    "    print(tfidf_vect.get_feature_names()[i])"
   ]
  },
  {
   "cell_type": "markdown",
   "metadata": {},
   "source": [
    "#### printing the top words for all topics"
   ]
  },
  {
   "cell_type": "code",
   "execution_count": 63,
   "metadata": {},
   "outputs": [
    {
     "name": "stdout",
     "output_type": "stream",
     "text": [
      "Top 10 words for topic #0:\n",
      "['cutting', 'best', 'unit', 'maher', 'boring', 'insert', 'bar', 'repair', 'tools', '015']\n",
      "\n",
      "\n",
      "Top 10 words for topic #1:\n",
      "['ro', 'perlube', 'armor', 'perkool', '5464', 'dubois', 'condat', '013658', 'condaforge', 'bol']\n",
      "\n",
      "\n",
      "Top 10 words for topic #2:\n",
      "['tool', 'block', 'build', 'calvek', 'ref', 'pn', 'gt', 'type', 'mfg', 'desc']\n",
      "\n",
      "\n",
      "Top 10 words for topic #3:\n",
      "['11', 'tools', '16', 'bit', 'carbide', 'shank', 'body', 'hss', '32', 'drill']\n",
      "\n",
      "\n"
     ]
    }
   ],
   "source": [
    "for i,topicNMF in enumerate(nmf.components_):\n",
    "    print(f'Top 10 words for topic #{i}:')\n",
    "    print([tfidf_vect.get_feature_names()[i] for i in topicNMF.argsort()[-10:]])\n",
    "    print('\\n')"
   ]
  },
  {
   "cell_type": "code",
   "execution_count": 70,
   "metadata": {},
   "outputs": [],
   "source": [
    "topic_values = nmf.transform(doc_term_matrix)\n",
    "Xeeva_data['TopicNMF'] = topic_values.argmax(axis=1)\n"
   ]
  },
  {
   "cell_type": "code",
   "execution_count": 69,
   "metadata": {},
   "outputs": [],
   "source": [
    "Xeeva_dataNMF = Xeeva_data.drop('Topic', axis=1)\n"
   ]
  },
  {
   "cell_type": "code",
   "execution_count": 71,
   "metadata": {},
   "outputs": [
    {
     "data": {
      "text/html": [
       "<div>\n",
       "<style scoped>\n",
       "    .dataframe tbody tr th:only-of-type {\n",
       "        vertical-align: middle;\n",
       "    }\n",
       "\n",
       "    .dataframe tbody tr th {\n",
       "        vertical-align: top;\n",
       "    }\n",
       "\n",
       "    .dataframe thead th {\n",
       "        text-align: right;\n",
       "    }\n",
       "</style>\n",
       "<table border=\"1\" class=\"dataframe\">\n",
       "  <thead>\n",
       "    <tr style=\"text-align: right;\">\n",
       "      <th></th>\n",
       "      <th>ITEM_NAME</th>\n",
       "      <th>CATEGORY_ID</th>\n",
       "      <th>TopicNMF</th>\n",
       "    </tr>\n",
       "  </thead>\n",
       "  <tbody>\n",
       "    <tr>\n",
       "      <th>0</th>\n",
       "      <td>CALIBRACION TRANSDUCER 75 nm</td>\n",
       "      <td>CAPITAL ASSEMBLY</td>\n",
       "      <td>2</td>\n",
       "    </tr>\n",
       "    <tr>\n",
       "      <th>1</th>\n",
       "      <td>for pusher whskey</td>\n",
       "      <td>CAPITAL ASSEMBLY</td>\n",
       "      <td>2</td>\n",
       "    </tr>\n",
       "    <tr>\n",
       "      <th>2</th>\n",
       "      <td>Stat 40B Press Head Cup to Carrier from Stati...</td>\n",
       "      <td>CAPITAL ASSEMBLY</td>\n",
       "      <td>2</td>\n",
       "    </tr>\n",
       "    <tr>\n",
       "      <th>3</th>\n",
       "      <td>TRANSD. Cable (4145097103) scrw</td>\n",
       "      <td>CAPITAL ASSEMBLY</td>\n",
       "      <td>2</td>\n",
       "    </tr>\n",
       "    <tr>\n",
       "      <th>4</th>\n",
       "      <td>ZT200 7,5BAR,13BAR60HZ NUMERO DE SERIE: AIF09...</td>\n",
       "      <td>CAPITAL ASSEMBLY</td>\n",
       "      <td>2</td>\n",
       "    </tr>\n",
       "  </tbody>\n",
       "</table>\n",
       "</div>"
      ],
      "text/plain": [
       "                                           ITEM_NAME       CATEGORY_ID  \\\n",
       "0                       CALIBRACION TRANSDUCER 75 nm  CAPITAL ASSEMBLY   \n",
       "1                                  for pusher whskey  CAPITAL ASSEMBLY   \n",
       "2   Stat 40B Press Head Cup to Carrier from Stati...  CAPITAL ASSEMBLY   \n",
       "3                    TRANSD. Cable (4145097103) scrw  CAPITAL ASSEMBLY   \n",
       "4   ZT200 7,5BAR,13BAR60HZ NUMERO DE SERIE: AIF09...  CAPITAL ASSEMBLY   \n",
       "\n",
       "   TopicNMF  \n",
       "0         2  \n",
       "1         2  \n",
       "2         2  \n",
       "3         2  \n",
       "4         2  "
      ]
     },
     "execution_count": 71,
     "metadata": {},
     "output_type": "execute_result"
    }
   ],
   "source": [
    "Xeeva_dataNMF.head(5)"
   ]
  },
  {
   "cell_type": "code",
   "execution_count": 74,
   "metadata": {},
   "outputs": [],
   "source": [
    "NMF_Topic0 = Xeeva_dataNMF[Xeeva_dataNMF[\"TopicNMF\"]== 0]\n",
    "NMF_Topic1 = Xeeva_dataNMF[Xeeva_dataNMF[\"TopicNMF\"]== 1]"
   ]
  },
  {
   "cell_type": "code",
   "execution_count": 75,
   "metadata": {},
   "outputs": [
    {
     "data": {
      "text/html": [
       "<div>\n",
       "<style scoped>\n",
       "    .dataframe tbody tr th:only-of-type {\n",
       "        vertical-align: middle;\n",
       "    }\n",
       "\n",
       "    .dataframe tbody tr th {\n",
       "        vertical-align: top;\n",
       "    }\n",
       "\n",
       "    .dataframe thead th {\n",
       "        text-align: right;\n",
       "    }\n",
       "</style>\n",
       "<table border=\"1\" class=\"dataframe\">\n",
       "  <thead>\n",
       "    <tr style=\"text-align: right;\">\n",
       "      <th></th>\n",
       "      <th>ITEM_NAME</th>\n",
       "      <th>CATEGORY_ID</th>\n",
       "      <th>TopicNMF</th>\n",
       "    </tr>\n",
       "  </thead>\n",
       "  <tbody>\n",
       "    <tr>\n",
       "      <th>5</th>\n",
       "      <td>\"6126061 TPF1588R01 IN2505 (5/8\"\" INSERT)\"</td>\n",
       "      <td>CAPITAL ASSEMBLY</td>\n",
       "      <td>0</td>\n",
       "    </tr>\n",
       "    <tr>\n",
       "      <th>9</th>\n",
       "      <td>\"Repair SERVICE TO DEBURR CONVEYOR CONVEYOR BR...</td>\n",
       "      <td>CAPITAL ASSEMBLY</td>\n",
       "      <td>0</td>\n",
       "    </tr>\n",
       "    <tr>\n",
       "      <th>10</th>\n",
       "      <td>\"SERVICIO DE REPARACION A TRANSPORTADOR DE REB...</td>\n",
       "      <td>CAPITAL ASSEMBLY</td>\n",
       "      <td>0</td>\n",
       "    </tr>\n",
       "    <tr>\n",
       "      <th>11</th>\n",
       "      <td># 5637351</td>\n",
       "      <td>CAPITAL ASSEMBLY</td>\n",
       "      <td>0</td>\n",
       "    </tr>\n",
       "    <tr>\n",
       "      <th>12</th>\n",
       "      <td># 5637377</td>\n",
       "      <td>CAPITAL ASSEMBLY</td>\n",
       "      <td>0</td>\n",
       "    </tr>\n",
       "    <tr>\n",
       "      <th>13</th>\n",
       "      <td># 5637385</td>\n",
       "      <td>CAPITAL ASSEMBLY</td>\n",
       "      <td>0</td>\n",
       "    </tr>\n",
       "    <tr>\n",
       "      <th>14</th>\n",
       "      <td># 5637393</td>\n",
       "      <td>CAPITAL ASSEMBLY</td>\n",
       "      <td>0</td>\n",
       "    </tr>\n",
       "    <tr>\n",
       "      <th>15</th>\n",
       "      <td># 5637406</td>\n",
       "      <td>CAPITAL ASSEMBLY</td>\n",
       "      <td>0</td>\n",
       "    </tr>\n",
       "    <tr>\n",
       "      <th>19</th>\n",
       "      <td>#VMHI0248 CIL EYC INF</td>\n",
       "      <td>CAPITAL ASSEMBLY</td>\n",
       "      <td>0</td>\n",
       "    </tr>\n",
       "    <tr>\n",
       "      <th>20</th>\n",
       "      <td>#VMHI0248 CIL EYEC INF</td>\n",
       "      <td>CAPITAL ASSEMBLY</td>\n",
       "      <td>0</td>\n",
       "    </tr>\n",
       "    <tr>\n",
       "      <th>21</th>\n",
       "      <td>#VMHI0248-S CIL EYEC INF</td>\n",
       "      <td>CAPITAL ASSEMBLY</td>\n",
       "      <td>0</td>\n",
       "    </tr>\n",
       "    <tr>\n",
       "      <th>23</th>\n",
       "      <td>#VMHI0697 VALV EYECT</td>\n",
       "      <td>CAPITAL ASSEMBLY</td>\n",
       "      <td>0</td>\n",
       "    </tr>\n",
       "    <tr>\n",
       "      <th>27</th>\n",
       "      <td>(1) Knob Purchase Alter</td>\n",
       "      <td>CAPITAL ASSEMBLY</td>\n",
       "      <td>0</td>\n",
       "    </tr>\n",
       "    <tr>\n",
       "      <th>29</th>\n",
       "      <td>(1) Pull Plate</td>\n",
       "      <td>CAPITAL ASSEMBLY</td>\n",
       "      <td>0</td>\n",
       "    </tr>\n",
       "    <tr>\n",
       "      <th>32</th>\n",
       "      <td>(2) Clamps</td>\n",
       "      <td>CAPITAL ASSEMBLY</td>\n",
       "      <td>0</td>\n",
       "    </tr>\n",
       "    <tr>\n",
       "      <th>34</th>\n",
       "      <td>(2) Keepers</td>\n",
       "      <td>CAPITAL ASSEMBLY</td>\n",
       "      <td>0</td>\n",
       "    </tr>\n",
       "    <tr>\n",
       "      <th>39</th>\n",
       "      <td>(3) Pull Blocks</td>\n",
       "      <td>CAPITAL ASSEMBLY</td>\n",
       "      <td>0</td>\n",
       "    </tr>\n",
       "    <tr>\n",
       "      <th>44</th>\n",
       "      <td>(51) Serial Pallets</td>\n",
       "      <td>CAPITAL ASSEMBLY</td>\n",
       "      <td>0</td>\n",
       "    </tr>\n",
       "    <tr>\n",
       "      <th>66</th>\n",
       "      <td>0-1000 2.5 FACE 1/4NPT 0-1000 2.5 FACE 1/4NPT</td>\n",
       "      <td>CAPITAL ASSEMBLY</td>\n",
       "      <td>0</td>\n",
       "    </tr>\n",
       "    <tr>\n",
       "      <th>67</th>\n",
       "      <td>01079 CHANNELS RKL 4323 - 5M - BT 613326</td>\n",
       "      <td>CAPITAL ASSEMBLY</td>\n",
       "      <td>0</td>\n",
       "    </tr>\n",
       "  </tbody>\n",
       "</table>\n",
       "</div>"
      ],
      "text/plain": [
       "                                            ITEM_NAME       CATEGORY_ID  \\\n",
       "5          \"6126061 TPF1588R01 IN2505 (5/8\"\" INSERT)\"  CAPITAL ASSEMBLY   \n",
       "9   \"Repair SERVICE TO DEBURR CONVEYOR CONVEYOR BR...  CAPITAL ASSEMBLY   \n",
       "10  \"SERVICIO DE REPARACION A TRANSPORTADOR DE REB...  CAPITAL ASSEMBLY   \n",
       "11                                          # 5637351  CAPITAL ASSEMBLY   \n",
       "12                                          # 5637377  CAPITAL ASSEMBLY   \n",
       "13                                          # 5637385  CAPITAL ASSEMBLY   \n",
       "14                                          # 5637393  CAPITAL ASSEMBLY   \n",
       "15                                          # 5637406  CAPITAL ASSEMBLY   \n",
       "19                              #VMHI0248 CIL EYC INF  CAPITAL ASSEMBLY   \n",
       "20                             #VMHI0248 CIL EYEC INF  CAPITAL ASSEMBLY   \n",
       "21                           #VMHI0248-S CIL EYEC INF  CAPITAL ASSEMBLY   \n",
       "23                               #VMHI0697 VALV EYECT  CAPITAL ASSEMBLY   \n",
       "27                            (1) Knob Purchase Alter  CAPITAL ASSEMBLY   \n",
       "29                                     (1) Pull Plate  CAPITAL ASSEMBLY   \n",
       "32                                         (2) Clamps  CAPITAL ASSEMBLY   \n",
       "34                                        (2) Keepers  CAPITAL ASSEMBLY   \n",
       "39                                    (3) Pull Blocks  CAPITAL ASSEMBLY   \n",
       "44                                (51) Serial Pallets  CAPITAL ASSEMBLY   \n",
       "66      0-1000 2.5 FACE 1/4NPT 0-1000 2.5 FACE 1/4NPT  CAPITAL ASSEMBLY   \n",
       "67           01079 CHANNELS RKL 4323 - 5M - BT 613326  CAPITAL ASSEMBLY   \n",
       "\n",
       "    TopicNMF  \n",
       "5          0  \n",
       "9          0  \n",
       "10         0  \n",
       "11         0  \n",
       "12         0  \n",
       "13         0  \n",
       "14         0  \n",
       "15         0  \n",
       "19         0  \n",
       "20         0  \n",
       "21         0  \n",
       "23         0  \n",
       "27         0  \n",
       "29         0  \n",
       "32         0  \n",
       "34         0  \n",
       "39         0  \n",
       "44         0  \n",
       "66         0  \n",
       "67         0  "
      ]
     },
     "execution_count": 75,
     "metadata": {},
     "output_type": "execute_result"
    }
   ],
   "source": [
    "NMF_Topic0.head(20)"
   ]
  },
  {
   "cell_type": "code",
   "execution_count": 77,
   "metadata": {},
   "outputs": [
    {
     "data": {
      "text/html": [
       "<div>\n",
       "<style scoped>\n",
       "    .dataframe tbody tr th:only-of-type {\n",
       "        vertical-align: middle;\n",
       "    }\n",
       "\n",
       "    .dataframe tbody tr th {\n",
       "        vertical-align: top;\n",
       "    }\n",
       "\n",
       "    .dataframe thead th {\n",
       "        text-align: right;\n",
       "    }\n",
       "</style>\n",
       "<table border=\"1\" class=\"dataframe\">\n",
       "  <thead>\n",
       "    <tr style=\"text-align: right;\">\n",
       "      <th></th>\n",
       "      <th>ITEM_NAME</th>\n",
       "      <th>CATEGORY_ID</th>\n",
       "      <th>TopicNMF</th>\n",
       "    </tr>\n",
       "  </thead>\n",
       "  <tbody>\n",
       "    <tr>\n",
       "      <th>2832</th>\n",
       "      <td>Armor Protective Dry Coat RP. BOL #8020476.</td>\n",
       "      <td>CHEMICALS</td>\n",
       "      <td>1</td>\n",
       "    </tr>\n",
       "    <tr>\n",
       "      <th>3255</th>\n",
       "      <td>CCMP-D CONDAT CONDACLEAN MP</td>\n",
       "      <td>CHEMICALS</td>\n",
       "      <td>1</td>\n",
       "    </tr>\n",
       "    <tr>\n",
       "      <th>3570</th>\n",
       "      <td>CONDAFORGE 635 CONDAFORGE 635</td>\n",
       "      <td>CHEMICALS</td>\n",
       "      <td>1</td>\n",
       "    </tr>\n",
       "    <tr>\n",
       "      <th>3571</th>\n",
       "      <td>CONDAT CONDACLEAN MP</td>\n",
       "      <td>CHEMICALS</td>\n",
       "      <td>1</td>\n",
       "    </tr>\n",
       "    <tr>\n",
       "      <th>3573</th>\n",
       "      <td>Condat condaforge. BOL #47418.</td>\n",
       "      <td>CHEMICALS</td>\n",
       "      <td>1</td>\n",
       "    </tr>\n",
       "    <tr>\n",
       "      <th>3574</th>\n",
       "      <td>Condat condaforge. BOL #47902.</td>\n",
       "      <td>CHEMICALS</td>\n",
       "      <td>1</td>\n",
       "    </tr>\n",
       "    <tr>\n",
       "      <th>3575</th>\n",
       "      <td>Condat condaforge. bol=46942</td>\n",
       "      <td>CHEMICALS</td>\n",
       "      <td>1</td>\n",
       "    </tr>\n",
       "    <tr>\n",
       "      <th>3577</th>\n",
       "      <td>CONDAT LATEX PAINT PUMP AND</td>\n",
       "      <td>CHEMICALS</td>\n",
       "      <td>1</td>\n",
       "    </tr>\n",
       "    <tr>\n",
       "      <th>3578</th>\n",
       "      <td>CONDAT MECAGREEN 450</td>\n",
       "      <td>CHEMICALS</td>\n",
       "      <td>1</td>\n",
       "    </tr>\n",
       "    <tr>\n",
       "      <th>3876</th>\n",
       "      <td>dubios / perkool</td>\n",
       "      <td>CHEMICALS</td>\n",
       "      <td>1</td>\n",
       "    </tr>\n",
       "    <tr>\n",
       "      <th>3882</th>\n",
       "      <td>Dubois PerKool 5464. BOL #SO-2806557</td>\n",
       "      <td>CHEMICALS</td>\n",
       "      <td>1</td>\n",
       "    </tr>\n",
       "    <tr>\n",
       "      <th>3883</th>\n",
       "      <td>Dubois PerKool 5464. bol #SO-2841956</td>\n",
       "      <td>CHEMICALS</td>\n",
       "      <td>1</td>\n",
       "    </tr>\n",
       "    <tr>\n",
       "      <th>3884</th>\n",
       "      <td>Dubois PerKool 5464. SO-2810817</td>\n",
       "      <td>CHEMICALS</td>\n",
       "      <td>1</td>\n",
       "    </tr>\n",
       "    <tr>\n",
       "      <th>3889</th>\n",
       "      <td>DUBOIS PERLUBE EP-320 GII F74420 SUB FOR Z-15394</td>\n",
       "      <td>CHEMICALS</td>\n",
       "      <td>1</td>\n",
       "    </tr>\n",
       "    <tr>\n",
       "      <th>3890</th>\n",
       "      <td>Dubois Perlube ro 46. bol #so-2817921</td>\n",
       "      <td>CHEMICALS</td>\n",
       "      <td>1</td>\n",
       "    </tr>\n",
       "  </tbody>\n",
       "</table>\n",
       "</div>"
      ],
      "text/plain": [
       "                                             ITEM_NAME CATEGORY_ID  TopicNMF\n",
       "2832       Armor Protective Dry Coat RP. BOL #8020476.   CHEMICALS         1\n",
       "3255                       CCMP-D CONDAT CONDACLEAN MP   CHEMICALS         1\n",
       "3570                     CONDAFORGE 635 CONDAFORGE 635   CHEMICALS         1\n",
       "3571                              CONDAT CONDACLEAN MP   CHEMICALS         1\n",
       "3573                    Condat condaforge. BOL #47418.   CHEMICALS         1\n",
       "3574                    Condat condaforge. BOL #47902.   CHEMICALS         1\n",
       "3575                      Condat condaforge. bol=46942   CHEMICALS         1\n",
       "3577                     CONDAT LATEX PAINT PUMP AND     CHEMICALS         1\n",
       "3578                              CONDAT MECAGREEN 450   CHEMICALS         1\n",
       "3876                                  dubios / perkool   CHEMICALS         1\n",
       "3882              Dubois PerKool 5464. BOL #SO-2806557   CHEMICALS         1\n",
       "3883              Dubois PerKool 5464. bol #SO-2841956   CHEMICALS         1\n",
       "3884                   Dubois PerKool 5464. SO-2810817   CHEMICALS         1\n",
       "3889  DUBOIS PERLUBE EP-320 GII F74420 SUB FOR Z-15394   CHEMICALS         1\n",
       "3890             Dubois Perlube ro 46. bol #so-2817921   CHEMICALS         1"
      ]
     },
     "execution_count": 77,
     "metadata": {},
     "output_type": "execute_result"
    }
   ],
   "source": [
    "NMF_Topic1.head(15)"
   ]
  },
  {
   "cell_type": "markdown",
   "metadata": {},
   "source": [
    "<div class=\"alert alert-block alert-success\">\n",
    "<b>TopicModeling:</b> I have used 2models to do topic segmentation.LDA used pre-dominently for TopicModeling. I have tried of NMF also. Based our datasamples which models gives proper classification we can use that model for our data. \n",
    "</div>"
   ]
  },
  {
   "cell_type": "code",
   "execution_count": null,
   "metadata": {},
   "outputs": [],
   "source": []
  }
 ],
 "metadata": {
  "kernelspec": {
   "display_name": "Python 3",
   "language": "python",
   "name": "python3"
  },
  "language_info": {
   "codemirror_mode": {
    "name": "ipython",
    "version": 3
   },
   "file_extension": ".py",
   "mimetype": "text/x-python",
   "name": "python",
   "nbconvert_exporter": "python",
   "pygments_lexer": "ipython3",
   "version": "3.8.5"
  }
 },
 "nbformat": 4,
 "nbformat_minor": 4
}
